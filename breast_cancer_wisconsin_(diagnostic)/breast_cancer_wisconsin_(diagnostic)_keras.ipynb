{
 "cells": [
  {
   "cell_type": "markdown",
   "metadata": {},
   "source": [
    "# Breast Cancer Wisconsin (Diagnostic)\n",
    "\n",
    "Target: Predict whether the cancer is benign or malignant\n",
    "\n",
    "Source: https://www.kaggle.com/uciml/breast-cancer-wisconsin-data\n",
    "\n",
    "In this notebook, I will touch medicine in practice. I analyze breast cancer Wisconsin. It is a diagnostic data set.\n",
    "I studied computer science in medicine, so now I would like to combine medical knowledge with machine learning.\n",
    "\n",
    "Features are computed from a digitized image of a fine needle aspirate (FNA) of a breast mass. Fine-needle aspiration (FNA) is a diagnostic procedure used to investigate lumps or masses. In this technique, a thin (23–25 gauge), hollow needle is inserted into the mass for sampling of cells that, after being stained, will be examined under a microscope (biopsy).\n",
    "\n",
    "https://en.wikipedia.org/wiki/Fine-needle_aspiration\n",
    "\n",
    "This is Keras version."
   ]
  },
  {
   "cell_type": "code",
   "execution_count": 9,
   "metadata": {},
   "outputs": [],
   "source": [
    "import numpy as np\n",
    "import pandas as pd\n",
    "\n",
    "from sklearn import preprocessing\n",
    "from sklearn.model_selection import train_test_split\n",
    "\n",
    "import keras\n",
    "from keras.models import Sequential\n",
    "from keras.layers import Dense, Dropout, Flatten, Conv2D, MaxPool2D"
   ]
  },
  {
   "cell_type": "code",
   "execution_count": 2,
   "metadata": {},
   "outputs": [],
   "source": [
    "df = pd.read_csv('input/data.csv')\n",
    "df = df.drop(['id', 'Unnamed: 32'], 1)"
   ]
  },
  {
   "cell_type": "code",
   "execution_count": 3,
   "metadata": {},
   "outputs": [],
   "source": [
    "df['diagnosis_cat'] = pd.factorize(df['diagnosis'])[0]"
   ]
  },
  {
   "cell_type": "code",
   "execution_count": 4,
   "metadata": {},
   "outputs": [],
   "source": [
    "def feats(df):\n",
    "    feats_from_df = set(df.select_dtypes([np.int, np.float]).columns.values)\n",
    "    bad_feats = {'diagnosis_cat'}\n",
    "    return list(feats_from_df - bad_feats)\n",
    "\n",
    "df_scaled = df\n",
    "df_scaled[feats(df)] = preprocessing.scale(df[feats(df)])"
   ]
  },
  {
   "cell_type": "code",
   "execution_count": 5,
   "metadata": {},
   "outputs": [],
   "source": [
    "X = df_scaled[feats(df_scaled)].values\n",
    "y = df_scaled['diagnosis_cat']"
   ]
  },
  {
   "cell_type": "code",
   "execution_count": 41,
   "metadata": {},
   "outputs": [],
   "source": [
    "def mlp_net():    \n",
    "    model = Sequential([\n",
    "        # first hodden layer + size of input layer\n",
    "        Dense(output_dim=16, init='uniform', activation='relu', input_dim=30),\n",
    "        # dropout - figth with overfitting\n",
    "        Dropout(0.1),\n",
    "        # second hidden layer\n",
    "        Dense(output_dim=16, init='uniform', activation='relu'),\n",
    "        Dropout(0.05),\n",
    "        # output layer\n",
    "        Dense(output_dim=1, init='uniform', activation='sigmoid')])\n",
    "    return model"
   ]
  },
  {
   "cell_type": "code",
   "execution_count": 42,
   "metadata": {},
   "outputs": [
    {
     "name": "stdout",
     "output_type": "stream",
     "text": [
      "_________________________________________________________________\n",
      "Layer (type)                 Output Shape              Param #   \n",
      "=================================================================\n",
      "dense_15 (Dense)             (None, 16)                496       \n",
      "_________________________________________________________________\n",
      "dropout_14 (Dropout)         (None, 16)                0         \n",
      "_________________________________________________________________\n",
      "dense_16 (Dense)             (None, 16)                272       \n",
      "_________________________________________________________________\n",
      "dropout_15 (Dropout)         (None, 16)                0         \n",
      "_________________________________________________________________\n",
      "dense_17 (Dense)             (None, 1)                 17        \n",
      "=================================================================\n",
      "Total params: 785\n",
      "Trainable params: 785\n",
      "Non-trainable params: 0\n",
      "_________________________________________________________________\n"
     ]
    },
    {
     "name": "stderr",
     "output_type": "stream",
     "text": [
      "/usr/local/lib/python3.6/dist-packages/ipykernel_launcher.py:4: UserWarning: Update your `Dense` call to the Keras 2 API: `Dense(activation=\"relu\", input_dim=30, units=16)`\n",
      "  after removing the cwd from sys.path.\n",
      "/usr/local/lib/python3.6/dist-packages/ipykernel_launcher.py:8: UserWarning: Update your `Dense` call to the Keras 2 API: `Dense(activation=\"relu\", units=16)`\n",
      "  \n",
      "/usr/local/lib/python3.6/dist-packages/ipykernel_launcher.py:11: UserWarning: Update your `Dense` call to the Keras 2 API: `Dense(activation=\"sigmoid\", units=1)`\n",
      "  # This is added back by InteractiveShellApp.init_path()\n"
     ]
    }
   ],
   "source": [
    "mlp = mlp_net()\n",
    "mlp.summary()\n",
    "mlp.compile(loss = 'binary_crossentropy', optimizer = 'adam', metrics = ['accuracy'])"
   ]
  },
  {
   "cell_type": "code",
   "execution_count": 38,
   "metadata": {},
   "outputs": [
    {
     "name": "stdout",
     "output_type": "stream",
     "text": [
      "Epoch 1/15\n",
      "569/569 [==============================] - 0s 11us/step - loss: 0.0801 - acc: 0.9807\n",
      "Epoch 2/15\n",
      "569/569 [==============================] - 0s 9us/step - loss: 0.0760 - acc: 0.9824\n",
      "Epoch 3/15\n",
      "569/569 [==============================] - 0s 10us/step - loss: 0.0744 - acc: 0.9824\n",
      "Epoch 4/15\n",
      "569/569 [==============================] - 0s 10us/step - loss: 0.0725 - acc: 0.9842\n",
      "Epoch 5/15\n",
      "569/569 [==============================] - 0s 10us/step - loss: 0.0727 - acc: 0.9842\n",
      "Epoch 6/15\n",
      "569/569 [==============================] - 0s 10us/step - loss: 0.0738 - acc: 0.9842\n",
      "Epoch 7/15\n",
      "569/569 [==============================] - 0s 10us/step - loss: 0.0706 - acc: 0.9859\n",
      "Epoch 8/15\n",
      "569/569 [==============================] - 0s 9us/step - loss: 0.0670 - acc: 0.9859\n",
      "Epoch 9/15\n",
      "569/569 [==============================] - 0s 10us/step - loss: 0.0654 - acc: 0.9842\n",
      "Epoch 10/15\n",
      "569/569 [==============================] - 0s 10us/step - loss: 0.0676 - acc: 0.9842\n",
      "Epoch 11/15\n",
      "569/569 [==============================] - 0s 11us/step - loss: 0.0657 - acc: 0.9842\n",
      "Epoch 12/15\n",
      "569/569 [==============================] - 0s 10us/step - loss: 0.0634 - acc: 0.9859\n",
      "Epoch 13/15\n",
      "569/569 [==============================] - 0s 11us/step - loss: 0.0658 - acc: 0.9877\n",
      "Epoch 14/15\n",
      "569/569 [==============================] - 0s 10us/step - loss: 0.0624 - acc: 0.9877\n",
      "Epoch 15/15\n",
      "569/569 [==============================] - 0s 10us/step - loss: 0.0639 - acc: 0.9842\n"
     ]
    }
   ],
   "source": [
    "mlp.fit(X, y, batch_size=128, epochs=15);"
   ]
  },
  {
   "cell_type": "code",
   "execution_count": 39,
   "metadata": {},
   "outputs": [
    {
     "name": "stdout",
     "output_type": "stream",
     "text": [
      "Epoch 1/15\n",
      "512/512 [==============================] - 0s 10us/step - loss: 0.0649 - acc: 0.9863\n",
      "Epoch 2/15\n",
      "512/512 [==============================] - 0s 10us/step - loss: 0.0638 - acc: 0.9844\n",
      "Epoch 3/15\n",
      "512/512 [==============================] - 0s 10us/step - loss: 0.0670 - acc: 0.9805\n",
      "Epoch 4/15\n",
      "512/512 [==============================] - 0s 9us/step - loss: 0.0650 - acc: 0.9863\n",
      "Epoch 5/15\n",
      "512/512 [==============================] - 0s 10us/step - loss: 0.0669 - acc: 0.9824\n",
      "Epoch 6/15\n",
      "512/512 [==============================] - 0s 9us/step - loss: 0.0647 - acc: 0.9863\n",
      "Epoch 7/15\n",
      "512/512 [==============================] - 0s 9us/step - loss: 0.0637 - acc: 0.9824\n",
      "Epoch 8/15\n",
      "512/512 [==============================] - 0s 10us/step - loss: 0.0612 - acc: 0.9863\n",
      "Epoch 9/15\n",
      "512/512 [==============================] - 0s 9us/step - loss: 0.0577 - acc: 0.9863\n",
      "Epoch 10/15\n",
      "512/512 [==============================] - 0s 11us/step - loss: 0.0613 - acc: 0.9863\n",
      "Epoch 11/15\n",
      "512/512 [==============================] - 0s 9us/step - loss: 0.0625 - acc: 0.9863\n",
      "Epoch 12/15\n",
      "512/512 [==============================] - 0s 9us/step - loss: 0.0619 - acc: 0.9863\n",
      "Epoch 13/15\n",
      "512/512 [==============================] - 0s 9us/step - loss: 0.0602 - acc: 0.9863\n",
      "Epoch 14/15\n",
      "512/512 [==============================] - 0s 9us/step - loss: 0.0609 - acc: 0.9863\n",
      "Epoch 15/15\n",
      "512/512 [==============================] - 0s 11us/step - loss: 0.0552 - acc: 0.9844\n"
     ]
    }
   ],
   "source": [
    "X_train, X_test, y_train, y_test = train_test_split(X, y, test_size = 0.1, random_state = 0)\n",
    "mlp.fit(X_train, y_train, batch_size=128, epochs=15);"
   ]
  },
  {
   "cell_type": "code",
   "execution_count": 33,
   "metadata": {},
   "outputs": [
    {
     "name": "stdout",
     "output_type": "stream",
     "text": [
      "Accuracy:  0.9649122807017544\n",
      "Error: 3.51%\n"
     ]
    }
   ],
   "source": [
    "result = mlp.evaluate(X_test, y_test, verbose = 0)\n",
    "print('Accuracy: ', result[1])\n",
    "print('Error: %.2f%%' % (100- result[1]*100))"
   ]
  }
 ],
 "metadata": {
  "kernelspec": {
   "display_name": "Python 3",
   "language": "python",
   "name": "python3"
  },
  "language_info": {
   "codemirror_mode": {
    "name": "ipython",
    "version": 3
   },
   "file_extension": ".py",
   "mimetype": "text/x-python",
   "name": "python",
   "nbconvert_exporter": "python",
   "pygments_lexer": "ipython3",
   "version": "3.6.7"
  }
 },
 "nbformat": 4,
 "nbformat_minor": 2
}
