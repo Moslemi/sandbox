{
 "cells": [
  {
   "cell_type": "markdown",
   "metadata": {},
   "source": [
    "## Exercise: Using LSTMs to Classify the 20 Newsgroups Data Set\n",
    "The 20 Newsgroups data set is a well known classification problem. The goal is to classify which newsgroup a particular post came from.  The 20 possible groups are:\n",
    "\n",
    "`comp.graphics\n",
    "comp.os.ms-windows.misc\n",
    "comp.sys.ibm.pc.hardware\n",
    "comp.sys.mac.hardware\n",
    "comp.windows.x\trec.autos\n",
    "rec.motorcycles\n",
    "rec.sport.baseball\n",
    "rec.sport.hockey\t\n",
    "sci.crypt\n",
    "sci.electronics\n",
    "sci.med\n",
    "sci.space\n",
    "misc.forsale\t\n",
    "talk.politics.misc\n",
    "talk.politics.guns\n",
    "talk.politics.mideast\t\n",
    "talk.religion.misc\n",
    "alt.atheism\n",
    "soc.religion.christian`\n",
    "\n",
    "As you can see, some pairs of groups may be quite similar while others are very different.\n",
    "\n",
    "The data is given as a designated training set of size 11314 and test set of size 7532.  The 20 categories are represented in roughly equal proportions, so the baseline accuracy is around 5%.\n"
   ]
  },
  {
   "cell_type": "markdown",
   "metadata": {},
   "source": [
    "To begin, review the code below.  This will walk you through the basics of loading in the 20 newsgroups data, loading in the GloVe data, building the word embedding matrix, and building the LSTM model.\n",
    "\n",
    "After we build the first LSTM model, it will be your turn to build one and play with the parameters."
   ]
  },
  {
   "cell_type": "code",
   "execution_count": 1,
   "metadata": {},
   "outputs": [
    {
     "name": "stderr",
     "output_type": "stream",
     "text": [
      "Using TensorFlow backend.\n"
     ]
    }
   ],
   "source": [
    "import numpy as np\n",
    "\n",
    "from keras.preprocessing import sequence\n",
    "from keras.models import Sequential\n",
    "from keras.layers import Dense, Embedding\n",
    "from keras.layers import LSTM\n",
    "\n",
    "import keras\n",
    "\n",
    "from sklearn.datasets import fetch_20newsgroups\n",
    "\n",
    "from keras.preprocessing.text import Tokenizer\n",
    "from keras.preprocessing.sequence import pad_sequences"
   ]
  },
  {
   "cell_type": "code",
   "execution_count": 2,
   "metadata": {
    "collapsed": true
   },
   "outputs": [],
   "source": [
    "max_features = 20000\n",
    "seq_length = 30  # How long to make our word sequences\n",
    "batch_size = 1024"
   ]
  },
  {
   "cell_type": "code",
   "execution_count": 3,
   "metadata": {},
   "outputs": [],
   "source": [
    "# Download the 20 newsgroups data - there is already a designated \"train\" and \"test\" set\n",
    "\n",
    "newsgroups_train = fetch_20newsgroups(subset='train')\n",
    "newsgroups_test = fetch_20newsgroups(subset='test')"
   ]
  },
  {
   "cell_type": "code",
   "execution_count": 4,
   "metadata": {},
   "outputs": [
    {
     "data": {
      "text/plain": [
       "(11314, 7532)"
      ]
     },
     "execution_count": 4,
     "metadata": {},
     "output_type": "execute_result"
    }
   ],
   "source": [
    "len(newsgroups_train.data), len(newsgroups_test.data)"
   ]
  },
  {
   "cell_type": "code",
   "execution_count": 5,
   "metadata": {
    "collapsed": true
   },
   "outputs": [],
   "source": [
    "tokenizer = Tokenizer(num_words=max_features)\n",
    "tokenizer.fit_on_texts(newsgroups_train.data)"
   ]
  },
  {
   "cell_type": "code",
   "execution_count": 6,
   "metadata": {
    "collapsed": true
   },
   "outputs": [],
   "source": [
    "sequences_train = tokenizer.texts_to_sequences(newsgroups_train.data)\n",
    "sequences_test = tokenizer.texts_to_sequences(newsgroups_test.data)"
   ]
  },
  {
   "cell_type": "code",
   "execution_count": 7,
   "metadata": {},
   "outputs": [
    {
     "name": "stdout",
     "output_type": "stream",
     "text": [
      "Found 134142 unique tokens.\n"
     ]
    }
   ],
   "source": [
    "word_index = tokenizer.word_index\n",
    "print('Found %s unique tokens.' % len(word_index))"
   ]
  },
  {
   "cell_type": "code",
   "execution_count": 8,
   "metadata": {
    "collapsed": true
   },
   "outputs": [],
   "source": [
    "x_train = pad_sequences(sequences_train, maxlen=seq_length)\n",
    "x_test = pad_sequences(sequences_test, maxlen=seq_length)"
   ]
  },
  {
   "cell_type": "code",
   "execution_count": 9,
   "metadata": {},
   "outputs": [
    {
     "data": {
      "text/plain": [
       "array([[ 2908,   198,     3, ...,    35,    58,  7860],\n",
       "       [  351,   138,   533, ...,   118,   441,    15],\n",
       "       [    9,    33,     4, ...,   187,    84, 17015],\n",
       "       ...,\n",
       "       [   10,     1,  1787, ...,   349,   383,    31],\n",
       "       [  115,   362,    67, ...,  7772,   486,   492],\n",
       "       [ 4485, 13919,  1031, ...,   200,    38,  3826]], dtype=int32)"
      ]
     },
     "execution_count": 9,
     "metadata": {},
     "output_type": "execute_result"
    }
   ],
   "source": [
    "x_train"
   ]
  },
  {
   "cell_type": "code",
   "execution_count": 10,
   "metadata": {
    "collapsed": true
   },
   "outputs": [],
   "source": [
    "y_train = keras.utils.to_categorical(np.asarray(newsgroups_train.target))\n",
    "y_test = keras.utils.to_categorical(np.asarray(newsgroups_test.target))"
   ]
  },
  {
   "cell_type": "markdown",
   "metadata": {},
   "source": [
    "We will be using the Glove pre-trained word vectors.  If you haven't already, please download them using this link:\n",
    "(NOTE: this will start downloading an 822MB file)\n",
    "\n",
    "http://nlp.stanford.edu/data/glove.6B.zip\n",
    "\n",
    "Then unzip the file and fill your local path to the file in the code cell below.\n",
    "\n",
    "We will use the file `glove.6B.100d.txt`"
   ]
  },
  {
   "cell_type": "code",
   "execution_count": 11,
   "metadata": {},
   "outputs": [
    {
     "name": "stdout",
     "output_type": "stream",
     "text": [
      "Found 400000 word vectors.\n"
     ]
    }
   ],
   "source": [
    "embeddings_index = {}\n",
    "f = open('data/glove.6B.100d.txt')\n",
    "for line in f:\n",
    "    values = line.split()\n",
    "    word = values[0]\n",
    "    coefs = np.asarray(values[1:], dtype='float32')\n",
    "    embeddings_index[word] = coefs\n",
    "f.close()\n",
    "\n",
    "print('Found %s word vectors.' % len(embeddings_index))"
   ]
  },
  {
   "cell_type": "markdown",
   "metadata": {},
   "source": [
    "Let's just look at a word embedding"
   ]
  },
  {
   "cell_type": "code",
   "execution_count": 12,
   "metadata": {},
   "outputs": [
    {
     "data": {
      "text/plain": [
       "array([ 0.30817  ,  0.30938  ,  0.52803  , -0.92543  , -0.73671  ,\n",
       "        0.63475  ,  0.44197  ,  0.10262  , -0.09142  , -0.56607  ,\n",
       "       -0.5327   ,  0.2013   ,  0.7704   , -0.13983  ,  0.13727  ,\n",
       "        1.1128   ,  0.89301  , -0.17869  , -0.0019722,  0.57289  ,\n",
       "        0.59479  ,  0.50428  , -0.28991  , -1.3491   ,  0.42756  ,\n",
       "        1.2748   , -1.1613   , -0.41084  ,  0.042804 ,  0.54866  ,\n",
       "        0.18897  ,  0.3759   ,  0.58035  ,  0.66975  ,  0.81156  ,\n",
       "        0.93864  , -0.51005  , -0.070079 ,  0.82819  , -0.35346  ,\n",
       "        0.21086  , -0.24412  , -0.16554  , -0.78358  , -0.48482  ,\n",
       "        0.38968  , -0.86356  , -0.016391 ,  0.31984  , -0.49246  ,\n",
       "       -0.069363 ,  0.018869 , -0.098286 ,  1.3126   , -0.12116  ,\n",
       "       -1.2399   , -0.091429 ,  0.35294  ,  0.64645  ,  0.089642 ,\n",
       "        0.70294  ,  1.1244   ,  0.38639  ,  0.52084  ,  0.98787  ,\n",
       "        0.79952  , -0.34625  ,  0.14095  ,  0.80167  ,  0.20987  ,\n",
       "       -0.86007  , -0.15308  ,  0.074523 ,  0.40816  ,  0.019208 ,\n",
       "        0.51587  , -0.34428  , -0.24525  , -0.77984  ,  0.27425  ,\n",
       "        0.22418  ,  0.20164  ,  0.017431 , -0.014697 , -1.0235   ,\n",
       "       -0.39695  , -0.0056188,  0.30569  ,  0.31748  ,  0.021404 ,\n",
       "        0.11837  , -0.11319  ,  0.42456  ,  0.53405  , -0.16717  ,\n",
       "       -0.27185  , -0.6255   ,  0.12883  ,  0.62529  , -0.52086  ],\n",
       "      dtype=float32)"
      ]
     },
     "execution_count": 12,
     "metadata": {},
     "output_type": "execute_result"
    }
   ],
   "source": [
    "dog_vec = embeddings_index['dog']\n",
    "dog_vec"
   ]
  },
  {
   "cell_type": "code",
   "execution_count": 13,
   "metadata": {
    "collapsed": true
   },
   "outputs": [],
   "source": [
    "## This creates a matrix where the $i$th row gives the word embedding for the word represented by integer $i$.\n",
    "## Essentially, these will be the \"weights\" for the Embedding Layer\n",
    "## Rather than learning the weights, we will use these ones and \"freeze\" the layer\n",
    "\n",
    "embedding_matrix = np.zeros((len(word_index) + 1, 100))\n",
    "for word, i in word_index.items():\n",
    "    embedding_vector = embeddings_index.get(word)\n",
    "    if embedding_vector is not None:\n",
    "        # words not found in embedding index will be all-zeros.\n",
    "        embedding_matrix[i] = embedding_vector"
   ]
  },
  {
   "cell_type": "code",
   "execution_count": 14,
   "metadata": {},
   "outputs": [
    {
     "data": {
      "text/plain": [
       "(134143, 100)"
      ]
     },
     "execution_count": 14,
     "metadata": {},
     "output_type": "execute_result"
    }
   ],
   "source": [
    "embedding_matrix.shape"
   ]
  },
  {
   "cell_type": "markdown",
   "metadata": {},
   "source": [
    "## LSTM Layer\n",
    "`keras.layers.recurrent.LSTM(units, activation='tanh', recurrent_activation='hard_sigmoid', use_bias=True, kernel_initializer='glorot_uniform', recurrent_initializer='orthogonal', bias_initializer='zeros', unit_forget_bias=True, kernel_regularizer=None, recurrent_regularizer=None, bias_regularizer=None, activity_regularizer=None, kernel_constraint=None, recurrent_constraint=None, bias_constraint=None, dropout=0.0, recurrent_dropout=0.0)`\n",
    "\n",
    "- Similar in structure to the `SimpleRNN` layer\n",
    "- `units` defines the dimension of the recurrent state\n",
    "- `recurrent_...` refers the recurrent state aspects of the LSTM\n",
    "- `kernel_...` refers to the transformations done on the input\n",
    "\n"
   ]
  },
  {
   "cell_type": "code",
   "execution_count": 15,
   "metadata": {},
   "outputs": [
    {
     "name": "stdout",
     "output_type": "stream",
     "text": [
      "WARNING:tensorflow:From /usr/local/lib/python3.6/dist-packages/tensorflow/python/framework/op_def_library.py:263: colocate_with (from tensorflow.python.framework.ops) is deprecated and will be removed in a future version.\n",
      "Instructions for updating:\n",
      "Colocations handled automatically by placer.\n",
      "WARNING:tensorflow:From /usr/local/lib/python3.6/dist-packages/keras/backend/tensorflow_backend.py:3445: calling dropout (from tensorflow.python.ops.nn_ops) with keep_prob is deprecated and will be removed in a future version.\n",
      "Instructions for updating:\n",
      "Please use `rate` instead of `keep_prob`. Rate should be set to `rate = 1 - keep_prob`.\n",
      "_________________________________________________________________\n",
      "Layer (type)                 Output Shape              Param #   \n",
      "=================================================================\n",
      "embedding_1 (Embedding)      (None, 30, 100)           13414300  \n",
      "_________________________________________________________________\n",
      "lstm_1 (LSTM)                (None, 30)                15720     \n",
      "_________________________________________________________________\n",
      "dense_1 (Dense)              (None, 20)                620       \n",
      "=================================================================\n",
      "Total params: 13,430,640\n",
      "Trainable params: 16,340\n",
      "Non-trainable params: 13,414,300\n",
      "_________________________________________________________________\n"
     ]
    }
   ],
   "source": [
    "word_dimension = 100  # This is the dimension of the words we are using from GloVe\n",
    "model = Sequential()\n",
    "model.add(Embedding(len(word_index) + 1,\n",
    "                            word_dimension,  \n",
    "                            weights=[embedding_matrix],  # We set the weights to be the word vectors from GloVe\n",
    "                            input_length=seq_length,\n",
    "                            trainable=False))  # By setting trainable to False, we \"freeze\" the word embeddings.\n",
    "model.add(LSTM(30, dropout=0.2, recurrent_dropout=0.2))\n",
    "model.add(Dense(20, activation='softmax'))\n",
    "\n",
    "model.summary()"
   ]
  },
  {
   "cell_type": "code",
   "execution_count": 16,
   "metadata": {
    "collapsed": true
   },
   "outputs": [
    {
     "data": {
      "text/plain": [
       "0"
      ]
     },
     "execution_count": 16,
     "metadata": {},
     "output_type": "execute_result"
    }
   ],
   "source": [
    "rmsprop = keras.optimizers.RMSprop(lr = .002)\n",
    "\n",
    "model.compile(loss='categorical_crossentropy',\n",
    "              optimizer=rmsprop,\n",
    "              metrics=['accuracy'])\n",
    "\n",
    "import gc; gc.collect()"
   ]
  },
  {
   "cell_type": "code",
   "execution_count": 17,
   "metadata": {},
   "outputs": [
    {
     "name": "stdout",
     "output_type": "stream",
     "text": [
      "WARNING:tensorflow:From /usr/local/lib/python3.6/dist-packages/tensorflow/python/ops/math_ops.py:3066: to_int32 (from tensorflow.python.ops.math_ops) is deprecated and will be removed in a future version.\n",
      "Instructions for updating:\n",
      "Use tf.cast instead.\n",
      "Train on 11314 samples, validate on 7532 samples\n",
      "Epoch 1/20\n",
      "11314/11314 [==============================] - 1s 89us/step - loss: 3.0221 - acc: 0.0537 - val_loss: 2.9865 - val_acc: 0.0696\n",
      "Epoch 2/20\n",
      "11314/11314 [==============================] - 0s 9us/step - loss: 2.9924 - acc: 0.0690 - val_loss: 2.9695 - val_acc: 0.0811\n",
      "Epoch 3/20\n",
      "11314/11314 [==============================] - 0s 9us/step - loss: 2.9726 - acc: 0.0803 - val_loss: 2.9540 - val_acc: 0.0947\n",
      "Epoch 4/20\n",
      "11314/11314 [==============================] - 0s 9us/step - loss: 2.9599 - acc: 0.0903 - val_loss: 2.9386 - val_acc: 0.1063\n",
      "Epoch 5/20\n",
      "11314/11314 [==============================] - 0s 8us/step - loss: 2.9453 - acc: 0.0948 - val_loss: 2.9213 - val_acc: 0.1167\n",
      "Epoch 6/20\n",
      "11314/11314 [==============================] - 0s 8us/step - loss: 2.9301 - acc: 0.1040 - val_loss: 2.9054 - val_acc: 0.1200\n",
      "Epoch 7/20\n",
      "11314/11314 [==============================] - 0s 8us/step - loss: 2.9113 - acc: 0.1183 - val_loss: 2.9032 - val_acc: 0.1063\n",
      "Epoch 8/20\n",
      "11314/11314 [==============================] - 0s 8us/step - loss: 2.9085 - acc: 0.1065 - val_loss: 2.8968 - val_acc: 0.1172\n",
      "Epoch 9/20\n",
      "11314/11314 [==============================] - 0s 9us/step - loss: 2.8971 - acc: 0.1186 - val_loss: 2.8660 - val_acc: 0.1308\n",
      "Epoch 10/20\n",
      "11314/11314 [==============================] - 0s 8us/step - loss: 2.8829 - acc: 0.1242 - val_loss: 2.8426 - val_acc: 0.1438\n",
      "Epoch 11/20\n",
      "11314/11314 [==============================] - 0s 8us/step - loss: 2.8625 - acc: 0.1374 - val_loss: 2.8221 - val_acc: 0.1409\n",
      "Epoch 12/20\n",
      "11314/11314 [==============================] - 0s 8us/step - loss: 2.8487 - acc: 0.1362 - val_loss: 2.8322 - val_acc: 0.1348\n",
      "Epoch 13/20\n",
      "11314/11314 [==============================] - 0s 8us/step - loss: 2.8450 - acc: 0.1397 - val_loss: 2.8146 - val_acc: 0.1417\n",
      "Epoch 14/20\n",
      "11314/11314 [==============================] - 0s 8us/step - loss: 2.8358 - acc: 0.1374 - val_loss: 2.7825 - val_acc: 0.1568\n",
      "Epoch 15/20\n",
      "11314/11314 [==============================] - 0s 8us/step - loss: 2.8137 - acc: 0.1507 - val_loss: 2.7528 - val_acc: 0.1638\n",
      "Epoch 16/20\n",
      "11314/11314 [==============================] - 0s 8us/step - loss: 2.7935 - acc: 0.1501 - val_loss: 2.7468 - val_acc: 0.1575\n",
      "Epoch 17/20\n",
      "11314/11314 [==============================] - 0s 8us/step - loss: 2.7807 - acc: 0.1564 - val_loss: 2.7427 - val_acc: 0.1609\n",
      "Epoch 18/20\n",
      "11314/11314 [==============================] - 0s 8us/step - loss: 2.7776 - acc: 0.1500 - val_loss: 2.7343 - val_acc: 0.1560\n",
      "Epoch 19/20\n",
      "11314/11314 [==============================] - 0s 8us/step - loss: 2.7677 - acc: 0.1577 - val_loss: 2.7356 - val_acc: 0.1625\n",
      "Epoch 20/20\n",
      "11314/11314 [==============================] - 0s 8us/step - loss: 2.7663 - acc: 0.1594 - val_loss: 2.6889 - val_acc: 0.1745\n",
      "CPU times: user 4.41 s, sys: 526 ms, total: 4.94 s\n",
      "Wall time: 3.63 s\n"
     ]
    },
    {
     "data": {
      "text/plain": [
       "<keras.callbacks.History at 0x7fd46b88ea90>"
      ]
     },
     "execution_count": 17,
     "metadata": {},
     "output_type": "execute_result"
    }
   ],
   "source": [
    "%%time\n",
    "model.fit(x_train, y_train,\n",
    "          batch_size=11314,\n",
    "          epochs=20,\n",
    "          validation_data=(x_test, y_test))"
   ]
  },
  {
   "cell_type": "markdown",
   "metadata": {},
   "source": [
    "## Exercise\n",
    "### Your Turn\n",
    "- Build a neural network with a SimpleRNN instead of an LSTM (with other dimensions and parameters the same). How does the performance compare?\n",
    "- Use the LSTM above without the pretrained word vectors (randomly initialize the weights and have them be learned during the training process).  How does the performance compare?\n",
    "- Try different sequence lengths, and dimensions for the hidden state of the LSTM.  Can you improve the model?\n"
   ]
  },
  {
   "cell_type": "code",
   "execution_count": 18,
   "metadata": {
    "collapsed": true
   },
   "outputs": [
    {
     "name": "stdout",
     "output_type": "stream",
     "text": [
      "_________________________________________________________________\n",
      "Layer (type)                 Output Shape              Param #   \n",
      "=================================================================\n",
      "embedding_2 (Embedding)      (None, None, 50)          1000000   \n",
      "_________________________________________________________________\n",
      "simple_rnn_1 (SimpleRNN)     (None, 5)                 280       \n",
      "_________________________________________________________________\n",
      "dense_2 (Dense)              (None, 20)                120       \n",
      "=================================================================\n",
      "Total params: 1,000,400\n",
      "Trainable params: 1,000,400\n",
      "Non-trainable params: 0\n",
      "_________________________________________________________________\n",
      "Train on 11314 samples, validate on 7532 samples\n",
      "Epoch 1/10\n",
      "11314/11314 [==============================] - 1s 55us/step - loss: 0.1985 - acc: 0.9500 - val_loss: 0.1985 - val_acc: 0.9500\n",
      "Epoch 2/10\n",
      "11314/11314 [==============================] - 0s 19us/step - loss: 0.1985 - acc: 0.9500 - val_loss: 0.1984 - val_acc: 0.9500\n",
      "Epoch 3/10\n",
      "11314/11314 [==============================] - 0s 19us/step - loss: 0.1984 - acc: 0.9500 - val_loss: 0.1984 - val_acc: 0.9500\n",
      "Epoch 4/10\n",
      "11314/11314 [==============================] - 0s 20us/step - loss: 0.1984 - acc: 0.9500 - val_loss: 0.1984 - val_acc: 0.9500\n",
      "Epoch 5/10\n",
      "11314/11314 [==============================] - 0s 19us/step - loss: 0.1983 - acc: 0.9500 - val_loss: 0.1983 - val_acc: 0.9500\n",
      "Epoch 6/10\n",
      "11314/11314 [==============================] - 0s 19us/step - loss: 0.1983 - acc: 0.9500 - val_loss: 0.1983 - val_acc: 0.9500\n",
      "Epoch 7/10\n",
      "11314/11314 [==============================] - 0s 19us/step - loss: 0.1982 - acc: 0.9500 - val_loss: 0.1982 - val_acc: 0.9500\n",
      "Epoch 8/10\n",
      "11314/11314 [==============================] - 0s 19us/step - loss: 0.1982 - acc: 0.9500 - val_loss: 0.1982 - val_acc: 0.9500\n",
      "Epoch 9/10\n",
      "11314/11314 [==============================] - 0s 19us/step - loss: 0.1981 - acc: 0.9500 - val_loss: 0.1981 - val_acc: 0.9500\n",
      "Epoch 10/10\n",
      "11314/11314 [==============================] - 0s 19us/step - loss: 0.1980 - acc: 0.9500 - val_loss: 0.1980 - val_acc: 0.9500\n",
      "7532/7532 [==============================] - 0s 5us/step\n",
      "Test score: 0.19803182538588884\n",
      "Test accuracy: 0.9499999313549481\n"
     ]
    }
   ],
   "source": [
    "# Please provide your code here\n",
    "\n",
    "from keras.layers import SimpleRNN\n",
    "from keras import initializers\n",
    "\n",
    "rnn_hidden_dim = 5\n",
    "word_embedding_dim = 50\n",
    "model_rnn = Sequential()\n",
    "model_rnn.add(Embedding(max_features, word_embedding_dim))  #This layer takes each integer in the sequence and embeds it in a 50-dimensional vector\n",
    "model_rnn.add(SimpleRNN(rnn_hidden_dim,\n",
    "                    kernel_initializer=initializers.RandomNormal(stddev=0.001),\n",
    "                    recurrent_initializer=initializers.Identity(gain=1.0),\n",
    "                    activation='relu',\n",
    "                    input_shape=x_train.shape[1:]))\n",
    "\n",
    "model_rnn.add(Dense(20, activation='softmax'))\n",
    "\n",
    "model_rnn.summary()\n",
    "\n",
    "rmsprop = keras.optimizers.RMSprop(lr = .0001)\n",
    "\n",
    "model_rnn.compile(loss='binary_crossentropy',\n",
    "              optimizer=rmsprop,\n",
    "              metrics=['accuracy'])\n",
    "\n",
    "model_rnn.fit(x_train, y_train,\n",
    "          batch_size=batch_size,\n",
    "          epochs=10,\n",
    "          validation_data=(x_test, y_test))\n",
    "\n",
    "score, acc = model_rnn.evaluate(x_test, y_test,\n",
    "                            batch_size=batch_size)\n",
    "print('Test score:', score)\n",
    "print('Test accuracy:', acc)"
   ]
  },
  {
   "cell_type": "code",
   "execution_count": 19,
   "metadata": {},
   "outputs": [
    {
     "name": "stdout",
     "output_type": "stream",
     "text": [
      "_________________________________________________________________\n",
      "Layer (type)                 Output Shape              Param #   \n",
      "=================================================================\n",
      "embedding_3 (Embedding)      (None, 30, 100)           13414300  \n",
      "_________________________________________________________________\n",
      "lstm_2 (LSTM)                (None, 30)                15720     \n",
      "_________________________________________________________________\n",
      "dense_3 (Dense)              (None, 20)                620       \n",
      "=================================================================\n",
      "Total params: 13,430,640\n",
      "Trainable params: 16,340\n",
      "Non-trainable params: 13,414,300\n",
      "_________________________________________________________________\n",
      "_________________________________________________________________\n",
      "Layer (type)                 Output Shape              Param #   \n",
      "=================================================================\n",
      "embedding_3 (Embedding)      (None, 30, 100)           13414300  \n",
      "_________________________________________________________________\n",
      "lstm_2 (LSTM)                (None, 30)                15720     \n",
      "_________________________________________________________________\n",
      "dense_3 (Dense)              (None, 20)                620       \n",
      "=================================================================\n",
      "Total params: 13,430,640\n",
      "Trainable params: 16,340\n",
      "Non-trainable params: 13,414,300\n",
      "_________________________________________________________________\n",
      "Train on 11314 samples, validate on 7532 samples\n",
      "Epoch 1/10\n",
      "11314/11314 [==============================] - 2s 156us/step - loss: 2.9741 - acc: 0.0787 - val_loss: 2.9336 - val_acc: 0.1002\n",
      "Epoch 2/10\n",
      "11314/11314 [==============================] - 1s 80us/step - loss: 2.8912 - acc: 0.1221 - val_loss: 2.8780 - val_acc: 0.1265\n",
      "Epoch 3/10\n",
      "11314/11314 [==============================] - 1s 78us/step - loss: 2.8070 - acc: 0.1450 - val_loss: 2.7534 - val_acc: 0.1512\n",
      "Epoch 4/10\n",
      "11314/11314 [==============================] - 1s 79us/step - loss: 2.7426 - acc: 0.1602 - val_loss: 2.6762 - val_acc: 0.1753\n",
      "Epoch 5/10\n",
      "11314/11314 [==============================] - 1s 80us/step - loss: 2.6732 - acc: 0.1747 - val_loss: 2.5778 - val_acc: 0.1976\n",
      "Epoch 6/10\n",
      "11314/11314 [==============================] - 1s 80us/step - loss: 2.6129 - acc: 0.1937 - val_loss: 2.5248 - val_acc: 0.2053\n",
      "Epoch 7/10\n",
      "11314/11314 [==============================] - 1s 78us/step - loss: 2.5482 - acc: 0.2097 - val_loss: 2.4845 - val_acc: 0.2208\n",
      "Epoch 8/10\n",
      "11314/11314 [==============================] - 1s 81us/step - loss: 2.4974 - acc: 0.2220 - val_loss: 2.4381 - val_acc: 0.2396\n",
      "Epoch 9/10\n",
      "11314/11314 [==============================] - 1s 82us/step - loss: 2.4521 - acc: 0.2394 - val_loss: 2.4716 - val_acc: 0.2341\n",
      "Epoch 10/10\n",
      "11314/11314 [==============================] - 1s 78us/step - loss: 2.4171 - acc: 0.2510 - val_loss: 2.3878 - val_acc: 0.2572\n",
      "7532/7532 [==============================] - 0s 23us/step\n",
      "Test score: 2.3877575169582035\n",
      "Test accuracy: 0.25716941045182723\n"
     ]
    }
   ],
   "source": [
    "# lstm with randomly initialize the weights\n",
    "\n",
    "word_dimension = 100  # This is the dimension of the words we are using from GloVe\n",
    "model = Sequential()\n",
    "model.add(Embedding(len(word_index) + 1,\n",
    "                            word_dimension,  \n",
    "                            weights=[embedding_matrix],  # We set the weights to be the word vectors from GloVe\n",
    "                            input_length=seq_length,\n",
    "                            trainable=False))  # By setting trainable to False, we \"freeze\" the word embeddings.\n",
    "model.add(LSTM(30, dropout=0.2, recurrent_dropout=0.2))\n",
    "model.add(Dense(20, activation='softmax'))\n",
    "\n",
    "model.summary()\n",
    "\n",
    "model.summary()\n",
    "\n",
    "rmsprop = keras.optimizers.RMSprop(lr = .002)\n",
    "\n",
    "model.compile(loss='categorical_crossentropy',\n",
    "              optimizer=rmsprop,\n",
    "              metrics=['accuracy'])\n",
    "\n",
    "model.fit(x_train, y_train,\n",
    "          batch_size=batch_size,\n",
    "          epochs=10,\n",
    "          validation_data=(x_test, y_test))\n",
    "\n",
    "score, acc = model.evaluate(x_test, y_test,\n",
    "                            batch_size=batch_size)\n",
    "print('Test score:', score)\n",
    "print('Test accuracy:', acc)"
   ]
  }
 ],
 "metadata": {
  "kernelspec": {
   "display_name": "Python 3",
   "language": "python",
   "name": "python3"
  },
  "language_info": {
   "codemirror_mode": {
    "name": "ipython",
    "version": 3
   },
   "file_extension": ".py",
   "mimetype": "text/x-python",
   "name": "python",
   "nbconvert_exporter": "python",
   "pygments_lexer": "ipython3",
   "version": "3.6.7"
  }
 },
 "nbformat": 4,
 "nbformat_minor": 2
}
