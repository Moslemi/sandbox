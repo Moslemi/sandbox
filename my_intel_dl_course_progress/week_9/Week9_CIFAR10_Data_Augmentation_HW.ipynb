{
 "cells": [
  {
   "cell_type": "markdown",
   "metadata": {},
   "source": [
    "## Classifying CIFAR-10 with Data Augmentation\n",
    "\n",
    "In this exercise, we revisit CIFAR-10 and the networks we previously built.  We will use real-time data augmentation to try to improve our results.\n",
    "\n",
    "When you are done going through the notebook, experiment with different data augmentation parameters and see if they help (or hurt!) the performance of your classifier."
   ]
  },
  {
   "cell_type": "code",
   "execution_count": 1,
   "metadata": {
    "scrolled": false
   },
   "outputs": [
    {
     "name": "stderr",
     "output_type": "stream",
     "text": [
      "Using TensorFlow backend.\n"
     ]
    }
   ],
   "source": [
    "from __future__ import print_function\n",
    "import keras\n",
    "from keras.datasets import cifar10\n",
    "from keras.preprocessing.image import ImageDataGenerator\n",
    "from keras.models import Sequential\n",
    "from keras.layers import Dense, Dropout, Activation, Flatten\n",
    "from keras.layers import Conv2D, MaxPooling2D\n",
    "\n",
    "import matplotlib.pyplot as plt\n",
    "%matplotlib inline"
   ]
  },
  {
   "cell_type": "code",
   "execution_count": 2,
   "metadata": {},
   "outputs": [
    {
     "name": "stdout",
     "output_type": "stream",
     "text": [
      "x_train shape: (50000, 32, 32, 3)\n",
      "50000 train samples\n",
      "10000 test samples\n"
     ]
    }
   ],
   "source": [
    "# The data, shuffled and split between train and test sets:\n",
    "(x_train, y_train), (x_test, y_test) = cifar10.load_data()\n",
    "print('x_train shape:', x_train.shape)\n",
    "print(x_train.shape[0], 'train samples')\n",
    "print(x_test.shape[0], 'test samples')"
   ]
  },
  {
   "cell_type": "code",
   "execution_count": 3,
   "metadata": {
    "collapsed": true
   },
   "outputs": [],
   "source": [
    "num_classes = 10\n",
    "\n",
    "y_train = keras.utils.to_categorical(y_train, num_classes)\n",
    "y_test = keras.utils.to_categorical(y_test, num_classes)"
   ]
  },
  {
   "cell_type": "code",
   "execution_count": 4,
   "metadata": {
    "collapsed": true
   },
   "outputs": [],
   "source": [
    "x_train = x_train.astype('float32')\n",
    "x_test = x_test.astype('float32')\n",
    "x_train /= 255\n",
    "x_test /= 255"
   ]
  },
  {
   "cell_type": "markdown",
   "metadata": {},
   "source": [
    "In Exercise 6, we built two models.  One was smaller (181K parameters) while the second was larger (1.25M) parameters.  Below we use the smaller model and train it with data augmentation."
   ]
  },
  {
   "cell_type": "code",
   "execution_count": 5,
   "metadata": {},
   "outputs": [
    {
     "name": "stdout",
     "output_type": "stream",
     "text": [
      "_________________________________________________________________\n",
      "Layer (type)                 Output Shape              Param #   \n",
      "=================================================================\n",
      "conv2d_1 (Conv2D)            (None, 16, 16, 32)        2432      \n",
      "_________________________________________________________________\n",
      "activation_1 (Activation)    (None, 16, 16, 32)        0         \n",
      "_________________________________________________________________\n",
      "conv2d_2 (Conv2D)            (None, 6, 6, 32)          25632     \n",
      "_________________________________________________________________\n",
      "activation_2 (Activation)    (None, 6, 6, 32)          0         \n",
      "_________________________________________________________________\n",
      "max_pooling2d_1 (MaxPooling2 (None, 3, 3, 32)          0         \n",
      "_________________________________________________________________\n",
      "dropout_1 (Dropout)          (None, 3, 3, 32)          0         \n",
      "_________________________________________________________________\n",
      "flatten_1 (Flatten)          (None, 288)               0         \n",
      "_________________________________________________________________\n",
      "dense_1 (Dense)              (None, 512)               147968    \n",
      "_________________________________________________________________\n",
      "activation_3 (Activation)    (None, 512)               0         \n",
      "_________________________________________________________________\n",
      "dropout_2 (Dropout)          (None, 512)               0         \n",
      "_________________________________________________________________\n",
      "dense_2 (Dense)              (None, 10)                5130      \n",
      "_________________________________________________________________\n",
      "activation_4 (Activation)    (None, 10)                0         \n",
      "=================================================================\n",
      "Total params: 181,162\n",
      "Trainable params: 181,162\n",
      "Non-trainable params: 0\n",
      "_________________________________________________________________\n"
     ]
    }
   ],
   "source": [
    "# Let's build a CNN using Keras' Sequential capabilities\n",
    "\n",
    "model_1 = Sequential()\n",
    "\n",
    "\n",
    "## 5x5 convolution with 2x2 stride and 32 filters\n",
    "model_1.add(Conv2D(32, (5, 5), strides = (2,2), padding='same',\n",
    "                 input_shape=x_train.shape[1:]))\n",
    "model_1.add(Activation('relu'))\n",
    "\n",
    "## Another 5x5 convolution with 2x2 stride and 32 filters\n",
    "model_1.add(Conv2D(32, (5, 5), strides = (2,2)))\n",
    "model_1.add(Activation('relu'))\n",
    "\n",
    "## 2x2 max pooling reduces to 3 x 3 x 32\n",
    "model_1.add(MaxPooling2D(pool_size=(2, 2)))\n",
    "model_1.add(Dropout(0.25))\n",
    "\n",
    "## Flatten turns 3x3x32 into 288x1\n",
    "model_1.add(Flatten())\n",
    "model_1.add(Dense(512))\n",
    "model_1.add(Activation('relu'))\n",
    "model_1.add(Dropout(0.5))\n",
    "model_1.add(Dense(num_classes))\n",
    "model_1.add(Activation('softmax'))\n",
    "\n",
    "model_1.summary()"
   ]
  },
  {
   "cell_type": "markdown",
   "metadata": {},
   "source": [
    "We still have 181K parameters, even though this is a \"small\" model.\n"
   ]
  },
  {
   "cell_type": "code",
   "execution_count": 6,
   "metadata": {
    "collapsed": true
   },
   "outputs": [],
   "source": [
    "batch_size = 32\n",
    "\n",
    "# initiate RMSprop optimizer\n",
    "opt = keras.optimizers.rmsprop(lr=0.0005, decay=1e-6)\n",
    "\n",
    "# Let's train the model using RMSprop\n",
    "model_1.compile(loss='categorical_crossentropy',\n",
    "              optimizer=opt,\n",
    "              metrics=['accuracy'])"
   ]
  },
  {
   "cell_type": "markdown",
   "metadata": {},
   "source": [
    "Here we define the `ImageDataGenerator` that we will use to serve images to our model during the training process.  Currently, it is configured to do some shifting and horizontal flipping."
   ]
  },
  {
   "cell_type": "code",
   "execution_count": 7,
   "metadata": {},
   "outputs": [
    {
     "name": "stdout",
     "output_type": "stream",
     "text": [
      "Epoch 1/15\n",
      "1562/1562 [==============================] - 25s 16ms/step - loss: 1.8023 - acc: 0.3349 - val_loss: 1.4989 - val_acc: 0.4571\n",
      "Epoch 2/15\n",
      "1562/1562 [==============================] - 23s 15ms/step - loss: 1.5507 - acc: 0.4393 - val_loss: 1.3508 - val_acc: 0.5177\n",
      "Epoch 3/15\n",
      "1562/1562 [==============================] - 23s 15ms/step - loss: 1.4633 - acc: 0.4749 - val_loss: 1.2547 - val_acc: 0.5567\n",
      "Epoch 4/15\n",
      "1562/1562 [==============================] - 23s 15ms/step - loss: 1.4016 - acc: 0.4959 - val_loss: 1.3667 - val_acc: 0.5272\n",
      "Epoch 5/15\n",
      "1562/1562 [==============================] - 23s 15ms/step - loss: 1.3646 - acc: 0.5140 - val_loss: 1.3051 - val_acc: 0.5488\n",
      "Epoch 6/15\n",
      "1562/1562 [==============================] - 23s 15ms/step - loss: 1.3397 - acc: 0.5233 - val_loss: 1.2222 - val_acc: 0.5661\n",
      "Epoch 7/15\n",
      "1562/1562 [==============================] - 23s 15ms/step - loss: 1.3250 - acc: 0.5286 - val_loss: 1.3448 - val_acc: 0.5394\n",
      "Epoch 8/15\n",
      "1562/1562 [==============================] - 23s 15ms/step - loss: 1.3069 - acc: 0.5391 - val_loss: 1.1773 - val_acc: 0.5776\n",
      "Epoch 9/15\n",
      "1562/1562 [==============================] - 23s 15ms/step - loss: 1.3045 - acc: 0.5383 - val_loss: 1.1612 - val_acc: 0.5972\n",
      "Epoch 10/15\n",
      "1562/1562 [==============================] - 23s 15ms/step - loss: 1.2908 - acc: 0.5467 - val_loss: 1.1431 - val_acc: 0.6022\n",
      "Epoch 11/15\n",
      "1562/1562 [==============================] - 23s 15ms/step - loss: 1.2833 - acc: 0.5505 - val_loss: 1.1933 - val_acc: 0.5819\n",
      "Epoch 12/15\n",
      "1562/1562 [==============================] - 23s 15ms/step - loss: 1.2830 - acc: 0.5528 - val_loss: 1.1803 - val_acc: 0.5885\n",
      "Epoch 13/15\n",
      "1562/1562 [==============================] - 23s 15ms/step - loss: 1.2809 - acc: 0.5540 - val_loss: 1.1682 - val_acc: 0.6013\n",
      "Epoch 14/15\n",
      "1562/1562 [==============================] - 23s 15ms/step - loss: 1.2877 - acc: 0.5530 - val_loss: 1.1360 - val_acc: 0.6168\n",
      "Epoch 15/15\n",
      "1562/1562 [==============================] - 23s 15ms/step - loss: 1.2790 - acc: 0.5547 - val_loss: 1.1996 - val_acc: 0.5841\n"
     ]
    },
    {
     "data": {
      "text/plain": [
       "<keras.callbacks.History at 0x7f451ab80cc0>"
      ]
     },
     "execution_count": 7,
     "metadata": {},
     "output_type": "execute_result"
    }
   ],
   "source": [
    "datagen = ImageDataGenerator(\n",
    "    featurewise_center=False,  # set input mean to 0 over the dataset\n",
    "    samplewise_center=False,  # set each sample mean to 0\n",
    "    featurewise_std_normalization=False,  # divide inputs by std of the dataset\n",
    "    samplewise_std_normalization=False,  # divide each input by its std\n",
    "    zca_whitening=False,  # apply ZCA whitening\n",
    "    rotation_range=0,  # randomly rotate images in the range (degrees, 0 to 180)\n",
    "    width_shift_range=0.1,  # randomly shift images horizontally (fraction of total width)\n",
    "    height_shift_range=0.1,  # randomly shift images vertically (fraction of total height)\n",
    "    horizontal_flip=True,  # randomly flip images\n",
    "    vertical_flip=False)  # randomly flip images\n",
    "                   \n",
    "datagen.fit(x_train)      # This computes any statistics that may be needed (e.g. for centering) from the training set.\n",
    "\n",
    "    \n",
    "# Fit the model on the batches generated by datagen.flow().\n",
    "model_1.fit_generator(datagen.flow(x_train, y_train,\n",
    "                                 batch_size=batch_size),\n",
    "                    steps_per_epoch=x_train.shape[0] // batch_size,\n",
    "                    epochs=15,\n",
    "                    validation_data=(x_test, y_test))"
   ]
  },
  {
   "cell_type": "markdown",
   "metadata": {},
   "source": [
    "How does the performance compare with the non-augmented training?"
   ]
  },
  {
   "cell_type": "markdown",
   "metadata": {},
   "source": [
    "    Non-augumented training: loss: 1.0782 - acc: 0.6312 - val_loss: 1.1706 - val_acc: 0.6049\n",
    "\n",
    "    Augumentend training: loss: 1.2790 - acc: 0.5547 - val_loss: 1.1996 - val_acc: 0.5841"
   ]
  },
  {
   "cell_type": "markdown",
   "metadata": {},
   "source": [
    "## Exercise\n",
    "### Your Turn\n",
    "\n",
    "1. Experiment above with different settings of the data augmentation parameters.  Can you make the model do better?  Can you make it do worse?\n",
    "\n",
    "2. As in Exercise 6, Build a more complicated model with the following pattern:\n",
    "    - Conv -> Conv -> MaxPool -> Conv -> Conv -> MaxPool -> (Flatten) -> Dense -> Final Classification\n",
    "    - Use strides of 1 for all convolutional layers.\n",
    "\n",
    "3. Use data augmentation to train this model.  Can you get better performance?"
   ]
  },
  {
   "cell_type": "code",
   "execution_count": 8,
   "metadata": {
    "collapsed": true
   },
   "outputs": [
    {
     "name": "stdout",
     "output_type": "stream",
     "text": [
      "_________________________________________________________________\n",
      "Layer (type)                 Output Shape              Param #   \n",
      "=================================================================\n",
      "conv2d_3 (Conv2D)            (None, 32, 32, 32)        896       \n",
      "_________________________________________________________________\n",
      "activation_5 (Activation)    (None, 32, 32, 32)        0         \n",
      "_________________________________________________________________\n",
      "conv2d_4 (Conv2D)            (None, 30, 30, 32)        9248      \n",
      "_________________________________________________________________\n",
      "activation_6 (Activation)    (None, 30, 30, 32)        0         \n",
      "_________________________________________________________________\n",
      "max_pooling2d_2 (MaxPooling2 (None, 15, 15, 32)        0         \n",
      "_________________________________________________________________\n",
      "dropout_3 (Dropout)          (None, 15, 15, 32)        0         \n",
      "_________________________________________________________________\n",
      "conv2d_5 (Conv2D)            (None, 15, 15, 64)        51264     \n",
      "_________________________________________________________________\n",
      "activation_7 (Activation)    (None, 15, 15, 64)        0         \n",
      "_________________________________________________________________\n",
      "conv2d_6 (Conv2D)            (None, 11, 11, 64)        102464    \n",
      "_________________________________________________________________\n",
      "activation_8 (Activation)    (None, 11, 11, 64)        0         \n",
      "_________________________________________________________________\n",
      "flatten_2 (Flatten)          (None, 7744)              0         \n",
      "_________________________________________________________________\n",
      "dense_3 (Dense)              (None, 512)               3965440   \n",
      "_________________________________________________________________\n",
      "activation_9 (Activation)    (None, 512)               0         \n",
      "_________________________________________________________________\n",
      "dropout_4 (Dropout)          (None, 512)               0         \n",
      "_________________________________________________________________\n",
      "dense_4 (Dense)              (None, 10)                5130      \n",
      "_________________________________________________________________\n",
      "activation_10 (Activation)   (None, 10)                0         \n",
      "=================================================================\n",
      "Total params: 4,134,442\n",
      "Trainable params: 4,134,442\n",
      "Non-trainable params: 0\n",
      "_________________________________________________________________\n"
     ]
    }
   ],
   "source": [
    "# Let's build a CNN using Keras' Sequential capabilities\n",
    "\n",
    "# Please provide your code here\n",
    "\n",
    "model_2 = Sequential()\n",
    "model_2.add(Conv2D(32, (3, 3), strides = (1,1), padding='same',\n",
    "                 input_shape=x_train.shape[1:]))\n",
    "model_2.add(Activation('relu'))\n",
    "model_2.add(Conv2D(32, (3, 3), strides = (1,1)))\n",
    "model_2.add(Activation('relu'))\n",
    "\n",
    "model_2.add(MaxPooling2D(pool_size=(2, 2)))\n",
    "model_2.add(Dropout(0.25))\n",
    "\n",
    "model_2.add(Conv2D(64, (5, 5), strides = (1,1), padding='same',\n",
    "                 input_shape=x_train.shape[1:]))\n",
    "model_2.add(Activation('relu'))\n",
    "model_2.add(Conv2D(64, (5, 5), strides = (1,1)))\n",
    "model_2.add(Activation('relu'))\n",
    "\n",
    "model_2.add(Flatten())\n",
    "model_2.add(Dense(512))\n",
    "model_2.add(Activation('relu'))\n",
    "model_2.add(Dropout(0.5))\n",
    "model_2.add(Dense(num_classes))\n",
    "model_2.add(Activation('softmax'))\n",
    "\n",
    "## Check number of parameters (print the summary)\n",
    "model_2.summary()"
   ]
  },
  {
   "cell_type": "code",
   "execution_count": 9,
   "metadata": {
    "collapsed": true
   },
   "outputs": [],
   "source": [
    "# initiate RMSprop optimizer\n",
    "batch_size = 32\n",
    "opt = keras.optimizers.rmsprop(lr=0.0005, decay=1e-6)\n",
    "\n",
    "# Let's train the model using RMSprop\n",
    "model_2.compile(loss='categorical_crossentropy',\n",
    "              optimizer=opt,\n",
    "              metrics=['accuracy'])"
   ]
  },
  {
   "cell_type": "code",
   "execution_count": 10,
   "metadata": {
    "collapsed": true
   },
   "outputs": [
    {
     "name": "stdout",
     "output_type": "stream",
     "text": [
      "Epoch 1/15\n",
      "1562/1562 [==============================] - 24s 15ms/step - loss: 1.5614 - acc: 0.4339 - val_loss: 1.1219 - val_acc: 0.5955\n",
      "Epoch 2/15\n",
      "1562/1562 [==============================] - 23s 15ms/step - loss: 1.1559 - acc: 0.5912 - val_loss: 1.1410 - val_acc: 0.6111\n",
      "Epoch 3/15\n",
      "1562/1562 [==============================] - 23s 15ms/step - loss: 1.0158 - acc: 0.6493 - val_loss: 0.9478 - val_acc: 0.6826\n",
      "Epoch 4/15\n",
      "1562/1562 [==============================] - 23s 15ms/step - loss: 0.9551 - acc: 0.6757 - val_loss: 0.8431 - val_acc: 0.7193\n",
      "Epoch 5/15\n",
      "1562/1562 [==============================] - 24s 15ms/step - loss: 0.9250 - acc: 0.6890 - val_loss: 0.8781 - val_acc: 0.7142\n",
      "Epoch 6/15\n",
      "1562/1562 [==============================] - 23s 15ms/step - loss: 0.9208 - acc: 0.6957 - val_loss: 0.8939 - val_acc: 0.7141\n",
      "Epoch 7/15\n",
      "1562/1562 [==============================] - 23s 15ms/step - loss: 0.9261 - acc: 0.6995 - val_loss: 1.3062 - val_acc: 0.6762\n",
      "Epoch 8/15\n",
      "1562/1562 [==============================] - 23s 15ms/step - loss: 0.9440 - acc: 0.6966 - val_loss: 0.9122 - val_acc: 0.7174\n",
      "Epoch 9/15\n",
      "1562/1562 [==============================] - 23s 15ms/step - loss: 0.9690 - acc: 0.6916 - val_loss: 0.9141 - val_acc: 0.7239\n",
      "Epoch 10/15\n",
      "1562/1562 [==============================] - 23s 15ms/step - loss: 0.9974 - acc: 0.6820 - val_loss: 0.8832 - val_acc: 0.7202\n",
      "Epoch 11/15\n",
      "1562/1562 [==============================] - 23s 15ms/step - loss: 1.0269 - acc: 0.6768 - val_loss: 1.0632 - val_acc: 0.6939\n",
      "Epoch 12/15\n",
      "1562/1562 [==============================] - 23s 15ms/step - loss: 1.0489 - acc: 0.6694 - val_loss: 1.2812 - val_acc: 0.6598\n",
      "Epoch 13/15\n",
      "1562/1562 [==============================] - 23s 15ms/step - loss: 1.0792 - acc: 0.6623 - val_loss: 0.8294 - val_acc: 0.7327\n",
      "Epoch 14/15\n",
      "1562/1562 [==============================] - 23s 15ms/step - loss: 1.0974 - acc: 0.6600 - val_loss: 1.0947 - val_acc: 0.6667\n",
      "Epoch 15/15\n",
      "1562/1562 [==============================] - 23s 15ms/step - loss: 1.1300 - acc: 0.6467 - val_loss: 0.9824 - val_acc: 0.6840\n"
     ]
    },
    {
     "data": {
      "text/plain": [
       "<keras.callbacks.History at 0x7f4599659ba8>"
      ]
     },
     "execution_count": 10,
     "metadata": {},
     "output_type": "execute_result"
    }
   ],
   "source": [
    "# Compute quantities required for feature-wise normalization\n",
    "datagen = ImageDataGenerator(\n",
    "    featurewise_center=False,  # set input mean to 0 over the dataset\n",
    "    samplewise_center=False,  # set each sample mean to 0\n",
    "    featurewise_std_normalization=False,  # divide inputs by std of the dataset\n",
    "    samplewise_std_normalization=False,  # divide each input by its std\n",
    "    zca_whitening=False,  # apply ZCA whitening\n",
    "    rotation_range=0,  # randomly rotate images in the range (degrees, 0 to 180)\n",
    "    width_shift_range=0.1,  # randomly shift images horizontally (fraction of total width)\n",
    "    height_shift_range=0.1,  # randomly shift images vertically (fraction of total height)\n",
    "    horizontal_flip=True,  # randomly flip images\n",
    "    vertical_flip=False)  # randomly flip images\n",
    "                   \n",
    "datagen.fit(x_train)      # This computes any statistics that may be needed (e.g. for centering) from the training set.\n",
    "\n",
    "    \n",
    "# Fit the model on the batches generated by datagen.flow().\n",
    "model_2.fit_generator(datagen.flow(x_train, y_train,\n",
    "                                 batch_size=batch_size),\n",
    "                    steps_per_epoch=x_train.shape[0] // batch_size,\n",
    "                    epochs=15,\n",
    "                    validation_data=(x_test, y_test))"
   ]
  },
  {
   "cell_type": "markdown",
   "metadata": {},
   "source": [
    "### Answers   \n",
    "\n",
    "    1. Yes, I can make the model do better.\n",
    "\n",
    "    3. When I used data augumentation to this model, I get better results.\n",
    "    \n",
    "    Non-augumented training: loss: 1.0782 - acc: 0.6312 - val_loss: 1.1706 - val_acc: 0.6049\n",
    "\n",
    "    Augumentend training: loss: 1.2790 - acc: 0.5547 - val_loss: 1.1996 - val_acc: 0.5841\n",
    "    \n",
    "    My model with augumentation: loss: 1.1300 - acc: 0.6467 - val_loss: 0.9824 - val_acc: 0.6840"
   ]
  },
  {
   "cell_type": "code",
   "execution_count": null,
   "metadata": {},
   "outputs": [],
   "source": []
  }
 ],
 "metadata": {
  "kernelspec": {
   "display_name": "Python 3",
   "language": "python",
   "name": "python3"
  },
  "language_info": {
   "codemirror_mode": {
    "name": "ipython",
    "version": 3
   },
   "file_extension": ".py",
   "mimetype": "text/x-python",
   "name": "python",
   "nbconvert_exporter": "python",
   "pygments_lexer": "ipython3",
   "version": "3.6.7"
  }
 },
 "nbformat": 4,
 "nbformat_minor": 2
}
